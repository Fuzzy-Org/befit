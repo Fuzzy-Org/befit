{
 "cells": [
  {
   "cell_type": "code",
   "execution_count": 2,
   "metadata": {},
   "outputs": [
    {
     "ename": "FileNotFoundError",
     "evalue": "[Errno 2] No such file or directory: 'database\\\\scripts\\\\Cardio.sql'",
     "output_type": "error",
     "traceback": [
      "\u001b[1;31m---------------------------------------------------------------------------\u001b[0m",
      "\u001b[1;31mFileNotFoundError\u001b[0m                         Traceback (most recent call last)",
      "\u001b[1;32mc:\\Users\\semta\\Desktop\\befit\\notebooks\\db.ipynb Cell 1\u001b[0m line \u001b[0;36m1\n\u001b[0;32m      <a href='vscode-notebook-cell:/c%3A/Users/semta/Desktop/befit/notebooks/db.ipynb#W0sZmlsZQ%3D%3D?line=4'>5</a>\u001b[0m sql_script_paths \u001b[39m=\u001b[39m [\n\u001b[0;32m      <a href='vscode-notebook-cell:/c%3A/Users/semta/Desktop/befit/notebooks/db.ipynb#W0sZmlsZQ%3D%3D?line=5'>6</a>\u001b[0m     \u001b[39m'\u001b[39m\u001b[39mdatabase\u001b[39m\u001b[39m\\\\\u001b[39;00m\u001b[39mscripts\u001b[39m\u001b[39m\\\\\u001b[39;00m\u001b[39mCardio.sql\u001b[39m\u001b[39m'\u001b[39m,\n\u001b[0;32m      <a href='vscode-notebook-cell:/c%3A/Users/semta/Desktop/befit/notebooks/db.ipynb#W0sZmlsZQ%3D%3D?line=6'>7</a>\u001b[0m     \u001b[39m'\u001b[39m\u001b[39mdatabase\u001b[39m\u001b[39m\\\\\u001b[39;00m\u001b[39mscripts\u001b[39m\u001b[39m\\\\\u001b[39;00m\u001b[39mHighCarb.sql\u001b[39m\u001b[39m'\u001b[39m,\n\u001b[1;32m   (...)\u001b[0m\n\u001b[0;32m     <a href='vscode-notebook-cell:/c%3A/Users/semta/Desktop/befit/notebooks/db.ipynb#W0sZmlsZQ%3D%3D?line=9'>10</a>\u001b[0m     \u001b[39m'\u001b[39m\u001b[39mdatabase\u001b[39m\u001b[39m\\\\\u001b[39;00m\u001b[39mscripts\u001b[39m\u001b[39m\\\\\u001b[39;00m\u001b[39mStandardCalories.sql\u001b[39m\u001b[39m'\u001b[39m\n\u001b[0;32m     <a href='vscode-notebook-cell:/c%3A/Users/semta/Desktop/befit/notebooks/db.ipynb#W0sZmlsZQ%3D%3D?line=10'>11</a>\u001b[0m ]\n\u001b[0;32m     <a href='vscode-notebook-cell:/c%3A/Users/semta/Desktop/befit/notebooks/db.ipynb#W0sZmlsZQ%3D%3D?line=12'>13</a>\u001b[0m \u001b[39mfor\u001b[39;00m sql_script_path \u001b[39min\u001b[39;00m sql_script_paths:\n\u001b[1;32m---> <a href='vscode-notebook-cell:/c%3A/Users/semta/Desktop/befit/notebooks/db.ipynb#W0sZmlsZQ%3D%3D?line=13'>14</a>\u001b[0m     \u001b[39mwith\u001b[39;00m \u001b[39mopen\u001b[39;49m(sql_script_path, \u001b[39m'\u001b[39;49m\u001b[39mr\u001b[39;49m\u001b[39m'\u001b[39;49m) \u001b[39mas\u001b[39;00m file:\n\u001b[0;32m     <a href='vscode-notebook-cell:/c%3A/Users/semta/Desktop/befit/notebooks/db.ipynb#W0sZmlsZQ%3D%3D?line=14'>15</a>\u001b[0m         sql_script \u001b[39m=\u001b[39m file\u001b[39m.\u001b[39mread()\n\u001b[0;32m     <a href='vscode-notebook-cell:/c%3A/Users/semta/Desktop/befit/notebooks/db.ipynb#W0sZmlsZQ%3D%3D?line=15'>16</a>\u001b[0m     cursor\u001b[39m.\u001b[39mexecutescript(sql_script)\n",
      "File \u001b[1;32mc:\\Users\\semta\\miniconda3\\envs\\fuzzy\\Lib\\site-packages\\IPython\\core\\interactiveshell.py:286\u001b[0m, in \u001b[0;36m_modified_open\u001b[1;34m(file, *args, **kwargs)\u001b[0m\n\u001b[0;32m    279\u001b[0m \u001b[39mif\u001b[39;00m file \u001b[39min\u001b[39;00m {\u001b[39m0\u001b[39m, \u001b[39m1\u001b[39m, \u001b[39m2\u001b[39m}:\n\u001b[0;32m    280\u001b[0m     \u001b[39mraise\u001b[39;00m \u001b[39mValueError\u001b[39;00m(\n\u001b[0;32m    281\u001b[0m         \u001b[39mf\u001b[39m\u001b[39m\"\u001b[39m\u001b[39mIPython won\u001b[39m\u001b[39m'\u001b[39m\u001b[39mt let you open fd=\u001b[39m\u001b[39m{\u001b[39;00mfile\u001b[39m}\u001b[39;00m\u001b[39m by default \u001b[39m\u001b[39m\"\u001b[39m\n\u001b[0;32m    282\u001b[0m         \u001b[39m\"\u001b[39m\u001b[39mas it is likely to crash IPython. If you know what you are doing, \u001b[39m\u001b[39m\"\u001b[39m\n\u001b[0;32m    283\u001b[0m         \u001b[39m\"\u001b[39m\u001b[39myou can use builtins\u001b[39m\u001b[39m'\u001b[39m\u001b[39m open.\u001b[39m\u001b[39m\"\u001b[39m\n\u001b[0;32m    284\u001b[0m     )\n\u001b[1;32m--> 286\u001b[0m \u001b[39mreturn\u001b[39;00m io_open(file, \u001b[39m*\u001b[39;49margs, \u001b[39m*\u001b[39;49m\u001b[39m*\u001b[39;49mkwargs)\n",
      "\u001b[1;31mFileNotFoundError\u001b[0m: [Errno 2] No such file or directory: 'database\\\\scripts\\\\Cardio.sql'"
     ]
    }
   ],
   "source": [
    "import sqlite3\n",
    "conn = sqlite3.connect('../database/database.db')\n",
    "\n",
    "cursor = conn.cursor()\n",
    "sql_script_paths = [\n",
    "    'database\\\\scripts\\\\Cardio.sql',\n",
    "    'database\\\\scripts\\\\HighCarb.sql',\n",
    "    'database\\\\scripts\\\\LowCarb.sql',\n",
    "    'database\\\\scripts\\\\ModerateCarb.sql',\n",
    "    'database\\\\scripts\\\\StandardCalories.sql'\n",
    "]\n",
    "\n",
    "for sql_script_path in sql_script_paths:\n",
    "    with open(sql_script_path, 'r') as file:\n",
    "        sql_script = file.read()\n",
    "    cursor.executescript(sql_script)\n",
    "\n",
    "conn.close()"
   ]
  },
  {
   "cell_type": "code",
   "execution_count": 11,
   "metadata": {},
   "outputs": [
    {
     "data": {
      "text/plain": [
       "[(0, 2, 0, 2200, 2400, 2700),\n",
       " (0, 3, 0, 2000, 2200, 2500),\n",
       " (0, 4, 0, 1800, 2000, 2300),\n",
       " (1, 2, 0, 2000, 2200, 2700),\n",
       " (1, 3, 0, 1800, 2000, 2500),\n",
       " (1, 4, 0, 1600, 1800, 2300),\n",
       " (0, 2, 1, 1400, 1600, 1900),\n",
       " (0, 3, 1, 1200, 1400, 1700),\n",
       " (0, 4, 1, 1000, 1200, 1500),\n",
       " (1, 2, 1, 1200, 1400, 1900),\n",
       " (1, 3, 1, 1000, 1200, 1700),\n",
       " (1, 4, 1, 800, 1000, 1500)]"
      ]
     },
     "execution_count": 11,
     "metadata": {},
     "output_type": "execute_result"
    }
   ],
   "source": [
    "# check if sqlalchemy can work with db\n",
    "import sqlalchemy\n",
    "engine = sqlalchemy.create_engine(\"sqlite:///database/database.db\")\n",
    "conn = engine.connect()\n",
    "conn.execute(sqlalchemy.text(\"SELECT * FROM StandardCalories\")).fetchall()"
   ]
  }
 ],
 "metadata": {
  "kernelspec": {
   "display_name": "fuzzy",
   "language": "python",
   "name": "python3"
  },
  "language_info": {
   "codemirror_mode": {
    "name": "ipython",
    "version": 3
   },
   "file_extension": ".py",
   "mimetype": "text/x-python",
   "name": "python",
   "nbconvert_exporter": "python",
   "pygments_lexer": "ipython3",
   "version": "3.11.0"
  }
 },
 "nbformat": 4,
 "nbformat_minor": 2
}
