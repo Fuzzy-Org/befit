{
 "cells": [
  {
   "cell_type": "code",
   "execution_count": 13,
   "metadata": {},
   "outputs": [],
   "source": [
    "import sqlite3\n",
    "conn = sqlite3.connect('database/database.db')\n",
    "\n",
    "cursor = conn.cursor()\n",
    "sql_script_paths = [\n",
    "    'database\\\\scripts\\\\Cardio.sql',\n",
    "    'database\\\\scripts\\\\HighCarb.sql',\n",
    "    'database\\\\scripts\\\\LowCarb.sql',\n",
    "    'database\\\\scripts\\\\ModerateCarb.sql',\n",
    "    'database\\\\scripts\\\\StandardCalories.sql'\n",
    "]\n",
    "\n",
    "for sql_script_path in sql_script_paths:\n",
    "    with open(sql_script_path, 'r') as file:\n",
    "        sql_script = file.read()\n",
    "    cursor.executescript(sql_script)\n",
    "\n",
    "conn.close()"
   ]
  },
  {
   "cell_type": "code",
   "execution_count": 14,
   "metadata": {},
   "outputs": [
    {
     "data": {
      "text/plain": [
       "[(0, 2, 0, 2200, 2400, 2700),\n",
       " (0, 3, 0, 2000, 2200, 2500),\n",
       " (0, 4, 0, 1800, 2000, 2300),\n",
       " (1, 2, 0, 2000, 2200, 2700),\n",
       " (1, 3, 0, 1800, 2000, 2500),\n",
       " (1, 4, 0, 1600, 1800, 2300),\n",
       " (0, 2, 1, 1400, 1600, 1900),\n",
       " (0, 3, 1, 1200, 1400, 1700),\n",
       " (0, 4, 1, 1000, 1200, 1500),\n",
       " (1, 2, 1, 1200, 1400, 1900),\n",
       " (1, 3, 1, 1000, 1200, 1700),\n",
       " (1, 4, 1, 800, 1000, 1500)]"
      ]
     },
     "execution_count": 14,
     "metadata": {},
     "output_type": "execute_result"
    }
   ],
   "source": [
    "# check if sqlalchemy can work with db\n",
    "import sqlalchemy\n",
    "engine = sqlalchemy.create_engine(\"sqlite:///database/database.db\")\n",
    "conn = engine.connect()\n",
    "conn.execute(sqlalchemy.text(\"SELECT * FROM StandardCalories\")).fetchall()"
   ]
  }
 ],
 "metadata": {
  "kernelspec": {
   "display_name": "fuzzy",
   "language": "python",
   "name": "python3"
  },
  "language_info": {
   "codemirror_mode": {
    "name": "ipython",
    "version": 3
   },
   "file_extension": ".py",
   "mimetype": "text/x-python",
   "name": "python",
   "nbconvert_exporter": "python",
   "pygments_lexer": "ipython3",
   "version": "3.11.0"
  }
 },
 "nbformat": 4,
 "nbformat_minor": 2
}
